{
 "cells": [
  {
   "cell_type": "markdown",
   "metadata": {},
   "source": [
    "1. Crie uma classe Retangulo que tenha os atributos base e altura e os métodos area() e perimetro(). Crie um objeto e teste os métodos. \n"
   ]
  },
  {
   "cell_type": "code",
   "execution_count": 6,
   "metadata": {},
   "outputs": [
    {
     "name": "stdout",
     "output_type": "stream",
     "text": [
      "Área: 15\n",
      "Perimetro: 16\n"
     ]
    }
   ],
   "source": [
    "class Retangulo:\n",
    "    def __init__(self, base, altura):\n",
    "        self.base = base\n",
    "        self.altura = altura\n",
    "        \n",
    "    def area(self):\n",
    "        return self.base * self.altura\n",
    "    \n",
    "    def perimetro(self):\n",
    "        return 2 * (self.base + self.altura)\n",
    "\n",
    "\n",
    "retangulo1 = Retangulo(5, 3)\n",
    "\n",
    "area1 = retangulo1.area()\n",
    "perimetro1 = retangulo1.perimetro()\n",
    "\n",
    "print (f\"Área: {area1}\")\n",
    "print (f\"Perimetro: {perimetro1}\")"
   ]
  },
  {
   "cell_type": "markdown",
   "metadata": {},
   "source": [
    "2. Crie um arquivo chamado geometria.py e salve a classe Retangulo dentro desse arquivo. Importe a classe de algum outro arquivo e realize testes. \n"
   ]
  },
  {
   "cell_type": "code",
   "execution_count": 20,
   "metadata": {},
   "outputs": [],
   "source": [
    "import geometria as ge"
   ]
  },
  {
   "cell_type": "code",
   "execution_count": 21,
   "metadata": {},
   "outputs": [
    {
     "ename": "AttributeError",
     "evalue": "module 'geometria' has no attribute 'Retangulo'",
     "output_type": "error",
     "traceback": [
      "\u001b[1;31m---------------------------------------------------------------------------\u001b[0m",
      "\u001b[1;31mAttributeError\u001b[0m                            Traceback (most recent call last)",
      "Cell \u001b[1;32mIn[21], line 1\u001b[0m\n\u001b[1;32m----> 1\u001b[0m retangulo1 \u001b[38;5;241m=\u001b[39m \u001b[43mge\u001b[49m\u001b[38;5;241;43m.\u001b[39;49m\u001b[43mRetangulo\u001b[49m(\u001b[38;5;241m5\u001b[39m, \u001b[38;5;241m3\u001b[39m)\n\u001b[0;32m      3\u001b[0m area1 \u001b[38;5;241m=\u001b[39m retangulo1\u001b[38;5;241m.\u001b[39marea()\n\u001b[0;32m      4\u001b[0m perimetro1 \u001b[38;5;241m=\u001b[39m retangulo1\u001b[38;5;241m.\u001b[39mperimetro()\n",
      "\u001b[1;31mAttributeError\u001b[0m: module 'geometria' has no attribute 'Retangulo'"
     ]
    }
   ],
   "source": [
    "retangulo1 = ge.Retangulo(5, 3)\n",
    "\n",
    "area1 = retangulo1.area()\n",
    "perimetro1 = retangulo1.perimetro()\n",
    "\n",
    "print(f\"Área: {area1}\")\n",
    "print(f\"Perímetro: {perimetro1}\")"
   ]
  },
  {
   "cell_type": "markdown",
   "metadata": {},
   "source": [
    "3. Crie uma classe Conta que tenha os atributos saldo e titular e os métodos depositar() e sacar(). Em seguida, instancie essa classe com um saldo inicial e realize algumas operações de depósito e saque para verificar se o saldo está sendo atualizado corretamente.\n"
   ]
  },
  {
   "cell_type": "code",
   "execution_count": 14,
   "metadata": {},
   "outputs": [
    {
     "name": "stdout",
     "output_type": "stream",
     "text": [
      "Saldo: 1500\n",
      "Saldo: 1300\n",
      "Saldo insuficiente.\n"
     ]
    }
   ],
   "source": [
    "class Conta:\n",
    "    def __init__(self, titular, saldo=0):\n",
    "        self.titular = titular\n",
    "        self.saldo = saldo\n",
    "        \n",
    "    def depositar(self, valor):\n",
    "        self.saldo += valor\n",
    "        print(f\"Saldo: {self.saldo}\")\n",
    "        \n",
    "    def sacar(self, valor):\n",
    "        if self.saldo >= valor:\n",
    "            self.saldo -= valor\n",
    "            print(f\"Saldo: {self.saldo}\")\n",
    "        else:\n",
    "            print(\"Saldo insuficiente.\")\n",
    "\n",
    "# Instanciando a classe Conta com um saldo inicial de R$1000,00\n",
    "conta1 = Conta(\"Carlos\", 1000)\n",
    "\n",
    "conta1.depositar(500)\n",
    "conta1.sacar(200)\n",
    "conta1.sacar(1500)"
   ]
  },
  {
   "cell_type": "code",
   "execution_count": null,
   "metadata": {},
   "outputs": [],
   "source": []
  }
 ],
 "metadata": {
  "kernelspec": {
   "display_name": "Python 3",
   "language": "python",
   "name": "python3"
  },
  "language_info": {
   "codemirror_mode": {
    "name": "ipython",
    "version": 3
   },
   "file_extension": ".py",
   "mimetype": "text/x-python",
   "name": "python",
   "nbconvert_exporter": "python",
   "pygments_lexer": "ipython3",
   "version": "3.12.2"
  }
 },
 "nbformat": 4,
 "nbformat_minor": 2
}
