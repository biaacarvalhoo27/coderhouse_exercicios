{
 "cells": [
  {
   "cell_type": "markdown",
   "metadata": {},
   "source": [
    "1.Escreva um programa em Python que calcule o IMC (Índice de Massa Corporal) de uma pessoa. O programa deve solicitar ao usuário o peso em kg e a altura em metros, e em seguida, calcular e imprimir o valor do IMC."
   ]
  },
  {
   "cell_type": "code",
   "execution_count": 1,
   "metadata": {},
   "outputs": [
    {
     "name": "stdout",
     "output_type": "stream",
     "text": [
      "Seu IMC é:  0.0027776706145596236\n"
     ]
    }
   ],
   "source": [
    "peso = float(input(\"Digite seu peso em kg: \"))\n",
    "altura = float(input(\"Digite sua altura em metros: \"))\n",
    "\n",
    "imc = peso / (altura ** 2)\n",
    "\n",
    "print (\"Seu IMC é: \", imc)"
   ]
  },
  {
   "cell_type": "markdown",
   "metadata": {},
   "source": [
    "2.Faça um programa que crie uma lista vazia e permita que o usuário insira 5 números inteiros na lista.\n"
   ]
  },
  {
   "cell_type": "code",
   "execution_count": 2,
   "metadata": {},
   "outputs": [
    {
     "name": "stdout",
     "output_type": "stream",
     "text": [
      "[5, 6, 8, 97, 69]\n"
     ]
    }
   ],
   "source": [
    "lista = []\n",
    "\n",
    "num1 = int(input(\"Digite o 1 numero: \"))\n",
    "num2 = int(input(\"Digite o 2 numero: \"))\n",
    "num3 = int(input(\"Digite o 3 numero: \"))\n",
    "num4 = int(input(\"Digite o 4 numero: \"))\n",
    "num5 = int(input(\"Digite o 5 numero: \"))\n",
    "\n",
    "lista.append(num1)\n",
    "lista.append(num2)\n",
    "lista.append(num3)\n",
    "lista.append(num4)\n",
    "lista.append(num5)\n",
    "\n",
    "print(lista)"
   ]
  },
  {
   "cell_type": "markdown",
   "metadata": {},
   "source": [
    "3.Faça um programa que peça ao usuário para digitar uma lista de nomes separados por vírgula e transforme essa lista em uma lista de strings."
   ]
  },
  {
   "cell_type": "code",
   "execution_count": 3,
   "metadata": {},
   "outputs": [
    {
     "data": {
      "text/plain": [
       "['bianca', ' larissa', ' teca', ' luigui']"
      ]
     },
     "execution_count": 3,
     "metadata": {},
     "output_type": "execute_result"
    }
   ],
   "source": [
    "lista_nomes = input(\"Digite uma lista de nomes separados por vírgula: \")\n",
    "lista_nomes.split(',')"
   ]
  }
 ],
 "metadata": {
  "kernelspec": {
   "display_name": "Python 3",
   "language": "python",
   "name": "python3"
  },
  "language_info": {
   "codemirror_mode": {
    "name": "ipython",
    "version": 3
   },
   "file_extension": ".py",
   "mimetype": "text/x-python",
   "name": "python",
   "nbconvert_exporter": "python",
   "pygments_lexer": "ipython3",
   "version": "3.12.2"
  }
 },
 "nbformat": 4,
 "nbformat_minor": 2
}
