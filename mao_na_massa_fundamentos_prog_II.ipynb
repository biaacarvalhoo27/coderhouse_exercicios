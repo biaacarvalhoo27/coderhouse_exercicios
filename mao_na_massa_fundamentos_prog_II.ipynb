{
 "cells": [
  {
   "cell_type": "markdown",
   "metadata": {},
   "source": [
    "1.Escreva um programa que receba um número inteiro e exiba se ele é par ou ímpar."
   ]
  },
  {
   "cell_type": "code",
   "execution_count": 2,
   "metadata": {},
   "outputs": [
    {
     "name": "stdout",
     "output_type": "stream",
     "text": [
      "13 é um número ímpar\n"
     ]
    }
   ],
   "source": [
    "num = int(input(\"Digite um numero inteiro: \"))\n",
    "\n",
    "if num % 2 == 0:\n",
    "    print(f\"{num} é um número par\")\n",
    "else:\n",
    "    print(f\"{num} é um número ímpar\")"
   ]
  },
  {
   "cell_type": "markdown",
   "metadata": {},
   "source": [
    "2.Escreva um programa em Python que solicita ao usuário uma frase e, em seguida, exibe cada palavra e seu número de caracteres."
   ]
  },
  {
   "cell_type": "code",
   "execution_count": 14,
   "metadata": {},
   "outputs": [
    {
     "name": "stdout",
     "output_type": "stream",
     "text": [
      "batatinha 9\n",
      "quente 6\n"
     ]
    }
   ],
   "source": [
    "frase = (input(\"Digite uma frase: \"))\n",
    "palavras = frase.split()\n",
    "\n",
    "for palavra in palavras:\n",
    "    tamanho = len(palavra)\n",
    "    print(palavra, tamanho)"
   ]
  },
  {
   "cell_type": "markdown",
   "metadata": {},
   "source": [
    "3.Crie um programa em Python que solicita ao usuário uma senha numérica de 4 dígitos. O programa deve repetir essa solicitação até que o usuário informe a senha correta (1234)."
   ]
  },
  {
   "cell_type": "code",
   "execution_count": 15,
   "metadata": {},
   "outputs": [
    {
     "name": "stdout",
     "output_type": "stream",
     "text": [
      "Senha correta!\n"
     ]
    }
   ],
   "source": [
    "senha = input(\"Digite uma senha de 4 numeros: \")\n",
    "while senha != \"1234\":\n",
    "    senha = input(\"Senha incorreta. Digite a senha de 4 numeros novamente:\")\n",
    "print(\"Senha correta!\")\n",
    "         "
   ]
  },
  {
   "cell_type": "markdown",
   "metadata": {},
   "source": [
    "4.Escreva um programa que dado um valor n calcula o fatorial de n."
   ]
  },
  {
   "cell_type": "code",
   "execution_count": 21,
   "metadata": {},
   "outputs": [
    {
     "name": "stdout",
     "output_type": "stream",
     "text": [
      "O fatorial de -5 é 1\n"
     ]
    }
   ],
   "source": [
    "n = int(input(\"Digite um numero inteiro: \"))\n",
    "fatorial = 1\n",
    "\n",
    "for i in range (1, n+1):\n",
    "    fatorial *= i\n",
    "\n",
    "print(\"O fatorial de\", n, \"é\", fatorial)"
   ]
  },
  {
   "cell_type": "markdown",
   "metadata": {},
   "source": [
    "5.Crie um dicionário com os dados da tabela ao lado, crie um loop para exibir os valores.  "
   ]
  },
  {
   "cell_type": "code",
   "execution_count": 23,
   "metadata": {},
   "outputs": [
    {
     "name": "stdout",
     "output_type": "stream",
     "text": [
      "{'janeiro': 232, 'fevereiro': 321, 'junho': 589, 'julho': 547}\n"
     ]
    }
   ],
   "source": [
    "print ({\n",
    "    'janeiro': 232,\n",
    "    'fevereiro': 321,\n",
    "    'junho': 589,\n",
    "    'julho': 547\n",
    "})"
   ]
  }
 ],
 "metadata": {
  "kernelspec": {
   "display_name": "Python 3",
   "language": "python",
   "name": "python3"
  },
  "language_info": {
   "codemirror_mode": {
    "name": "ipython",
    "version": 3
   },
   "file_extension": ".py",
   "mimetype": "text/x-python",
   "name": "python",
   "nbconvert_exporter": "python",
   "pygments_lexer": "ipython3",
   "version": "3.12.2"
  }
 },
 "nbformat": 4,
 "nbformat_minor": 2
}
